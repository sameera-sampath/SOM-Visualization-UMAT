{
 "cells": [
  {
   "cell_type": "code",
   "execution_count": 2,
   "metadata": {},
   "outputs": [
    {
     "name": "stdout",
     "output_type": "stream",
     "text": [
      "Collecting minisom\n",
      "  Downloading MiniSom-2.2.7.tar.gz (8.1 kB)\n",
      "Building wheels for collected packages: minisom\n",
      "  Building wheel for minisom (setup.py): started\n",
      "  Building wheel for minisom (setup.py): finished with status 'done'\n",
      "  Created wheel for minisom: filename=MiniSom-2.2.7-py3-none-any.whl size=8606 sha256=a124ed09cd4ec4cbd8add67087906dbff2e484759e72315c5ffb65ca145ffc8c\n",
      "  Stored in directory: c:\\users\\samee\\appdata\\local\\pip\\cache\\wheels\\b9\\32\\90\\b7e7953eeb50b9880bd01bcdbf832bf9550a54d834996f858c\n",
      "Successfully built minisom\n",
      "Installing collected packages: minisom\n",
      "Successfully installed minisom-2.2.7\n"
     ]
    }
   ],
   "source": [
    "!pip install minisom"
   ]
  },
  {
   "cell_type": "code",
   "execution_count": 87,
   "metadata": {},
   "outputs": [],
   "source": [
    "from numpy import genfromtxt,array,linalg,zeros,apply_along_axis\n",
    "\n",
    "# reading the iris dataset in the csv format    \n",
    "# (downloaded from http://aima.cs.berkeley.edu/data/iris.csv)\n",
    "data = genfromtxt('iris.csv', delimiter=',',usecols=(0,1,2,3))\n",
    "# normalization to unity of each pattern in the data\n",
    "data = apply_along_axis(lambda x: x/linalg.norm(x),1,data)"
   ]
  },
  {
   "cell_type": "code",
   "execution_count": 116,
   "metadata": {},
   "outputs": [
    {
     "name": "stdout",
     "output_type": "stream",
     "text": [
      "Training...\n",
      "\n",
      "...ready!\n"
     ]
    }
   ],
   "source": [
    "\n",
    "from minisom import MiniSom\n",
    "### Initialization and training ###\n",
    "som = MiniSom(7,7,data.shape[1],sigma=1.0,learning_rate=0.5)\n",
    "som.random_weights_init(data)\n",
    "print(\"Training...\")\n",
    "som.train_random(data,100) # training with 100 iterations\n",
    "print(\"\\n...ready!\")"
   ]
  },
  {
   "cell_type": "code",
   "execution_count": 117,
   "metadata": {},
   "outputs": [],
   "source": [
    "from pylab import plot,axis,show,pcolor,colorbar,bone\n",
    "# loading the labels\n",
    "target = genfromtxt('iris.csv',\n",
    "                    delimiter=',',usecols=(4),dtype=str)\n",
    "t = zeros(len(target),dtype=int)\n",
    "# use different colors and markers for each label\n",
    "markers = ['o','s','D']\n",
    "colors = ['r','g','b']"
   ]
  },
  {
   "cell_type": "code",
   "execution_count": 118,
   "metadata": {},
   "outputs": [],
   "source": [
    "t[target == '1'] = 0\n",
    "#setosa\n",
    "t[target == '2'] = 1\n",
    "#versicolor\n",
    "t[target == '3'] = 2\n",
    "#virginica"
   ]
  },
  {
   "cell_type": "code",
   "execution_count": 119,
   "metadata": {},
   "outputs": [
    {
     "name": "stdout",
     "output_type": "stream",
     "text": [
      "[0 0 0 0 0 0 0 0 0 0 0 0 0 0 0 0 0 0 0 0 0 0 0 0 0 0 0 0 0 0 0 0 0 0 1 1 1\n",
      " 1 1 1 1 1 1 1 1 1 1 1 1 1 1 1 1 1 1 1 1 1 1 1 1 1 1 1 1 1 1 2 2 2 2 2 2 2\n",
      " 2 2 2 2 2 2 2 2 2 2 2 2 2 2 2 2 2 2 2 2 2 2 2 2 2 2 0 0 0 0 0 0 0 0 0 0 0\n",
      " 0 0 0 0 0 1 1 1 1 1 1 1 1 1 1 1 1 1 1 1 1 1 2 2 2 2 2 2 2 2 2 2 2 2 2 2 2\n",
      " 2 2]\n"
     ]
    }
   ],
   "source": [
    "print(t)"
   ]
  },
  {
   "cell_type": "code",
   "execution_count": 115,
   "metadata": {},
   "outputs": [
    {
     "data": {
      "image/png": "[encoded data removed]",
      "text/plain": [
       "<Figure size 432x288 with 2 Axes>"
      ]
     },
     "metadata": {
      "needs_background": "light"
     },
     "output_type": "display_data"
    }
   ],
   "source": [
    "bone()\n",
    "pcolor(som.distance_map().T) # distance map as background\n",
    "colorbar()\n",
    "\n",
    "for cnt,xx in enumerate(data):\n",
    " w = som.winner(xx) # getting the winner\n",
    " # palce a marker on the winning position for the sample xx\n",
    " plot(w[0]+.5,w[1]+.5,markers[t[cnt]],markerfacecolor='None',\n",
    "   markeredgecolor=colors[t[cnt]],markersize=12,markeredgewidth=2)\n",
    "axis([0,som._weights.shape[0],0,som._weights.shape[1]])\n",
    "show() # show the figure"
   ]
  },
  {
   "cell_type": "code",
   "execution_count": null,
   "metadata": {},
   "outputs": [],
   "source": []
  }
 ],
 "metadata": {
  "kernelspec": {
   "display_name": "Python 3",
   "language": "python",
   "name": "python3"
  },
  "language_info": {
   "codemirror_mode": {
    "name": "ipython",
    "version": 3
   },
   "file_extension": ".py",
   "mimetype": "text/x-python",
   "name": "python",
   "nbconvert_exporter": "python",
   "pygments_lexer": "ipython3",
   "version": "3.7.1"
  }
 },
 "nbformat": 4,
 "nbformat_minor": 4
}
